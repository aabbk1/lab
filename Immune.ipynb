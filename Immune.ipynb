{
  "nbformat": 4,
  "nbformat_minor": 0,
  "metadata": {
    "colab": {
      "provenance": []
    },
    "kernelspec": {
      "name": "python3",
      "display_name": "Python 3"
    },
    "language_info": {
      "name": "python"
    }
  },
  "cells": [
    {
      "cell_type": "code",
      "execution_count": null,
      "metadata": {
        "colab": {
          "base_uri": "https://localhost:8080/"
        },
        "id": "5R1U3FcWVI7C",
        "outputId": "d1400131-3244-408b-d20a-c4a43eaa3a94"
      },
      "outputs": [
        {
          "output_type": "stream",
          "name": "stdout",
          "text": [
            "5\n",
            "Potential damage detected with antibody: [1.07775543 0.51941327 0.79100492]\n"
          ]
        }
      ],
      "source": [
        "import numpy as np\n",
        "\n",
        "def create_antibody(size):\n",
        "    return np.random.rand(size)\n",
        "\n",
        "def euclidean_distance(a1, a2):\n",
        "    return np.linalg.norm(a1 - a2)\n",
        "\n",
        "def affinity(antibody, datapoint):\n",
        "    return 1 / (1 + euclidean_distance(antibody, datapoint))\n",
        "\n",
        "healthy_data = np.array([[1.0, 2.0, 3.0], [1.1, 1.9, 3.2]])\n",
        "damaged_data = np.array([[1.2, 1.7, 2.8], [1.4, 1.5, 3.5]])\n",
        "\n",
        "population = [create_antibody(healthy_data.shape[1]) for _ in range(10)]\n",
        "\n",
        "for _ in range(2):\n",
        "    affinities = [affinity(ab, dp) for ab in population for dp in healthy_data]\n",
        "    top = sorted(zip(population, affinities), key=lambda x: x[1], reverse=True)[:5]\n",
        "    population = [ab + np.random.randn(len(ab)) * 0.1 for ab, _ in top]\n",
        "\n",
        "affinities_damaged = [affinity(ab, damaged_data[0]) for ab in population]\n",
        "index = np.argmax(affinities_damaged)\n",
        "\n",
        "print(len(population))\n",
        "print(\"Potential damage detected with antibody:\", population[index])"
      ]
    }
  ]
}