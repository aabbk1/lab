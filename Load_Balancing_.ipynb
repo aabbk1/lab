{
  "nbformat": 4,
  "nbformat_minor": 0,
  "metadata": {
    "colab": {
      "provenance": []
    },
    "kernelspec": {
      "name": "python3",
      "display_name": "Python 3"
    },
    "language_info": {
      "name": "python"
    }
  },
  "cells": [
    {
      "cell_type": "code",
      "execution_count": 1,
      "metadata": {
        "colab": {
          "base_uri": "https://localhost:8080/"
        },
        "id": "gLUXgbl7Pniz",
        "outputId": "695713be-43ac-4ff8-ca55-9c191e644aae"
      },
      "outputs": [
        {
          "output_type": "stream",
          "name": "stdout",
          "text": [
            "\n",
            "--- Round Robin Load Balancing ---\n",
            "Client 1 routed to Server 1\n",
            "Client 2 routed to Server 2\n",
            "Client 3 routed to Server 3\n",
            "Client 4 routed to Server 1\n",
            "Client 5 routed to Server 2\n",
            "\n",
            "--- Least Connections Load Balancing ---\n",
            "Client 1 routed to Server 1\n",
            "Client 2 routed to Server 1\n",
            "Client 3 routed to Server 1\n",
            "Client 4 routed to Server 1\n",
            "Client 5 routed to Server 1\n"
          ]
        }
      ],
      "source": [
        "import random\n",
        "import time\n",
        "\n",
        "# Simulate a server by keeping track of active connections\n",
        "class Server:\n",
        "    def __init__(self, name):\n",
        "        self.name = name\n",
        "        self.active_connections = 0\n",
        "\n",
        "    def handle_request(self):\n",
        "        # Simulate handling a request\n",
        "        self.active_connections += 1\n",
        "        time.sleep(random.uniform(0.5, 1.5))  # Simulate work\n",
        "        self.active_connections -= 1\n",
        "\n",
        "# Function to simulate Round Robin load balancing\n",
        "def round_robin(servers, index):\n",
        "    return servers[index % len(servers)]\n",
        "\n",
        "# Function to simulate Least Connections load balancing\n",
        "def least_connections(servers):\n",
        "    return min(servers, key=lambda server: server.active_connections)\n",
        "\n",
        "# Simulate client requests and distribute them using load balancing\n",
        "def simulate_requests(servers, algorithm=\"round_robin\"):\n",
        "    for client_id in range(1, 6):  # Simulate 5 clients\n",
        "        if algorithm == \"round_robin\":\n",
        "            server = round_robin(servers, client_id - 1)\n",
        "        elif algorithm == \"least_connections\":\n",
        "            server = least_connections(servers)\n",
        "\n",
        "        print(f\"Client {client_id} routed to {server.name}\")\n",
        "        server.handle_request()\n",
        "\n",
        "# Main function to simulate the load balancing\n",
        "def main():\n",
        "    # Create 3 servers\n",
        "    servers = [Server(f\"Server {i+1}\") for i in range(3)]\n",
        "\n",
        "    # Simulate requests using Round Robin\n",
        "    print(\"\\n--- Round Robin Load Balancing ---\")\n",
        "    simulate_requests(servers, \"round_robin\")\n",
        "\n",
        "    # Simulate requests using Least Connections\n",
        "    print(\"\\n--- Least Connections Load Balancing ---\")\n",
        "    simulate_requests(servers, \"least_connections\")\n",
        "\n",
        "if __name__ == \"__main__\":\n",
        "    main()\n"
      ]
    }
  ]
}