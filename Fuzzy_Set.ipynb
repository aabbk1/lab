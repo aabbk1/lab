{
  "nbformat": 4,
  "nbformat_minor": 0,
  "metadata": {
    "colab": {
      "provenance": []
    },
    "kernelspec": {
      "name": "python3",
      "display_name": "Python 3"
    },
    "language_info": {
      "name": "python"
    }
  },
  "cells": [
    {
      "cell_type": "code",
      "execution_count": 2,
      "metadata": {
        "colab": {
          "base_uri": "https://localhost:8080/"
        },
        "id": "-aIK8BSSNqtr",
        "outputId": "8e573c5e-2318-4abf-cf2a-ea7a9f7c6f02"
      },
      "outputs": [
        {
          "output_type": "stream",
          "name": "stdout",
          "text": [
            "Union of A and B: {'x': 0.6, 'y': 0.8}\n",
            "Intersection of A and B: {'x': 0.4, 'y': 0.5}\n",
            "Complement of A: {'x': 0.4, 'y': 0.19999999999999996}\n",
            "Difference of A and B: {'x': 0.6, 'y': 0.5}\n",
            "Cartesian Product of A and B (R1): {('x', 'x'): 0.4, ('x', 'y'): 0.5, ('y', 'x'): 0.4, ('y', 'y'): 0.5}\n",
            "Cartesian Product of B and A (R2): {('x', 'x'): 0.4, ('x', 'y'): 0.4, ('y', 'x'): 0.5, ('y', 'y'): 0.5}\n",
            "Max-Min Composition of R1 and R2: {('x', 'x'): 0.5, ('x', 'y'): 0.5, ('y', 'x'): 0.5, ('y', 'y'): 0.5}\n"
          ]
        }
      ],
      "source": [
        "# Fuzzy Sets (as simple dictionaries with elements and their membership values)\n",
        "A = {'x': 0.6, 'y': 0.8}\n",
        "B = {'x': 0.4, 'y': 0.5}\n",
        "\n",
        "# 1. Union of two fuzzy sets (max value for each element)\n",
        "union = {}\n",
        "for key in A:\n",
        "    union[key] = max(A[key], B[key])\n",
        "\n",
        "print(\"Union of A and B:\", union)\n",
        "\n",
        "# 2. Intersection of two fuzzy sets (min value for each element)\n",
        "intersection = {}\n",
        "for key in A:\n",
        "    intersection[key] = min(A[key], B[key])\n",
        "\n",
        "print(\"Intersection of A and B:\", intersection)\n",
        "\n",
        "# 3. Complement of a fuzzy set (1 - value for each element)\n",
        "complement_A = {}\n",
        "for key in A:\n",
        "    complement_A[key] = 1 - A[key]\n",
        "\n",
        "print(\"Complement of A:\", complement_A)\n",
        "\n",
        "# 4. Difference of two fuzzy sets (min of A and (1 - B) for each element)\n",
        "difference = {}\n",
        "for key in A:\n",
        "    difference[key] = min(A[key], 1 - B[key])\n",
        "\n",
        "print(\"Difference of A and B:\", difference)\n",
        "\n",
        "# --- Fuzzy Relations ---\n",
        "\n",
        "# 5. Cartesian product of fuzzy sets A and B (combining each pair of elements from A and B)\n",
        "R1 = {}\n",
        "for a in A:\n",
        "    for b in B:\n",
        "        R1[(a, b)] = min(A[a], B[b])\n",
        "\n",
        "print(\"Cartesian Product of A and B (R1):\", R1)\n",
        "\n",
        "# 6. Max-Min composition of two fuzzy relations (R1 and R2)\n",
        "# Creating another fuzzy relation R2 from B and A\n",
        "R2 = {}\n",
        "for b in B:\n",
        "    for a in A:\n",
        "        R2[(b, a)] = min(B[b], A[a])\n",
        "\n",
        "print(\"Cartesian Product of B and A (R2):\", R2)\n",
        "\n",
        "# Max-Min composition: combining R1 and R2\n",
        "composition = {}\n",
        "for (a, b) in R1:\n",
        "    for (b2, c) in R2:\n",
        "        if b == b2:  # Matching common element (b)\n",
        "            key = (a, c)\n",
        "            composition[key] = max(composition.get(key, 0), min(R1[(a, b)], R2[(b2, c)]))\n",
        "\n",
        "print(\"Max-Min Composition of R1 and R2:\", composition)\n"
      ]
    }
  ]
}