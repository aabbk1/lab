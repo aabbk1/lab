{
  "nbformat": 4,
  "nbformat_minor": 0,
  "metadata": {
    "colab": {
      "provenance": []
    },
    "kernelspec": {
      "name": "python3",
      "display_name": "Python 3"
    },
    "language_info": {
      "name": "python"
    }
  },
  "cells": [
    {
      "cell_type": "code",
      "source": [
        "!pip install geneticalgorithm"
      ],
      "metadata": {
        "colab": {
          "base_uri": "https://localhost:8080/"
        },
        "id": "r2vYUZtm61yl",
        "outputId": "c7cbec01-90f3-42e1-a734-f45200da95ae"
      },
      "execution_count": 1,
      "outputs": [
        {
          "output_type": "stream",
          "name": "stdout",
          "text": [
            "Collecting geneticalgorithm\n",
            "  Downloading geneticalgorithm-1.0.2-py3-none-any.whl.metadata (25 kB)\n",
            "Collecting func-timeout (from geneticalgorithm)\n",
            "  Downloading func_timeout-4.3.5.tar.gz (44 kB)\n",
            "\u001b[?25l     \u001b[90m━━━━━━━━━━━━━━━━━━━━━━━━━━━━━━━━━━━━━━━━\u001b[0m \u001b[32m0.0/44.3 kB\u001b[0m \u001b[31m?\u001b[0m eta \u001b[36m-:--:--\u001b[0m\r\u001b[2K     \u001b[90m━━━━━━━━━━━━━━━━━━━━━━━━━━━━━━━━━━━━━━━━\u001b[0m \u001b[32m44.3/44.3 kB\u001b[0m \u001b[31m2.7 MB/s\u001b[0m eta \u001b[36m0:00:00\u001b[0m\n",
            "\u001b[?25h  Preparing metadata (setup.py) ... \u001b[?25l\u001b[?25hdone\n",
            "Requirement already satisfied: numpy in /usr/local/lib/python3.11/dist-packages (from geneticalgorithm) (2.0.2)\n",
            "Downloading geneticalgorithm-1.0.2-py3-none-any.whl (16 kB)\n",
            "Building wheels for collected packages: func-timeout\n",
            "  Building wheel for func-timeout (setup.py) ... \u001b[?25l\u001b[?25hdone\n",
            "  Created wheel for func-timeout: filename=func_timeout-4.3.5-py3-none-any.whl size=15077 sha256=e5ba3776983b601e3b5dbab193353c4e64798c13e0c61b22f7a66ede2adcbb45\n",
            "  Stored in directory: /root/.cache/pip/wheels/07/e6/86/f23164d12c3134966614102db8e7956ab359faf7ffd78703ce\n",
            "Successfully built func-timeout\n",
            "Installing collected packages: func-timeout, geneticalgorithm\n",
            "Successfully installed func-timeout-4.3.5 geneticalgorithm-1.0.2\n"
          ]
        }
      ]
    },
    {
      "cell_type": "code",
      "source": [
        "import numpy as np\n",
        "from sklearn.model_selection import train_test_split\n",
        "from sklearn.neural_network import MLPRegressor\n",
        "from geneticalgorithm import geneticalgorithm as ga\n",
        "\n",
        "# Generate synthetic dataset\n",
        "X = np.random.rand(1000, 5)\n",
        "y = X @ np.random.rand(5) * 10 + np.random.normal(0, 1, 1000)\n",
        "X_train, X_val, y_train, y_val = train_test_split(X, y, test_size=0.2, random_state=42)\n",
        "\n",
        "# Objective function for GA\n",
        "def run_mlp(p):\n",
        "    model = MLPRegressor(\n",
        "        hidden_layer_sizes=(int(p[0]),) * int(p[1]),\n",
        "        activation=['identity', 'logistic', 'tanh', 'relu'][int(p[2])],\n",
        "        solver=['lbfgs', 'sgd', 'adam'][int(p[3])],\n",
        "        max_iter=10\n",
        "    )\n",
        "    model.fit(X_train, y_train)\n",
        "    return -model.score(X_val, y_val)\n",
        "\n",
        "# GA setup\n",
        "ga_model = ga(\n",
        "    function=run_mlp,\n",
        "    dimension=4,\n",
        "    variable_type='int',\n",
        "    variable_boundaries=np.array([[5, 50], [1, 5], [0, 3], [0, 2]]),\n",
        "    algorithm_parameters={\n",
        "        'max_num_iteration': 5,\n",
        "        'population_size': 50,\n",
        "        'mutation_probability': 0.1,\n",
        "        'elit_ratio': 0.01,\n",
        "        'crossover_probability': 0.5,\n",
        "        'parents_portion': 0.3,\n",
        "        'crossover_type': 'uniform',\n",
        "        'max_iteration_without_improv': None  # Added key\n",
        "    }\n",
        ")\n",
        "\n",
        "\n",
        "# Run GA and print best result\n",
        "ga_model.run()\n",
        "best_params = ga_model.output_dict['variable']\n",
        "best_score = -run_mlp(best_params)\n",
        "print(\"Best params:\", best_params)\n",
        "print(\"Validation R² score:\", best_score)\n"
      ],
      "metadata": {
        "id": "GJMrl4xy7j-B"
      },
      "execution_count": null,
      "outputs": []
    }
  ]
}