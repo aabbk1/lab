{
  "nbformat": 4,
  "nbformat_minor": 0,
  "metadata": {
    "colab": {
      "provenance": []
    },
    "kernelspec": {
      "name": "python3",
      "display_name": "Python 3"
    },
    "language_info": {
      "name": "python"
    }
  },
  "cells": [
    {
      "cell_type": "markdown",
      "source": [
        "Client"
      ],
      "metadata": {
        "id": "8TTii6oh8qMq"
      }
    },
    {
      "cell_type": "code",
      "source": [
        "import xmlrpc.client\n",
        "\n",
        "# Connect to server\n",
        "proxy = xmlrpc.client.ServerProxy(\"http://localhost:8000/\")\n",
        "\n",
        "# Input from user\n",
        "n = int(input(\"Enter an integer to compute factorial: \"))\n",
        "\n",
        "# Remote call\n",
        "result = proxy.compute_factorial(n)\n",
        "\n",
        "print(f\"Factorial of {n} is: {result}\")\n"
      ],
      "metadata": {
        "id": "tbiIn62U8sBX"
      },
      "execution_count": null,
      "outputs": []
    },
    {
      "cell_type": "markdown",
      "source": [
        "Sever"
      ],
      "metadata": {
        "id": "0Vq6IlGc8uiX"
      }
    },
    {
      "cell_type": "code",
      "source": [
        "from xmlrpc.server import SimpleXMLRPCServer\n",
        "\n",
        "# Factorial function\n",
        "def factorial(n):\n",
        "    if n == 0 or n == 1:\n",
        "        return 1\n",
        "    else:\n",
        "        return n * factorial(n - 1)\n",
        "\n",
        "# Set up server\n",
        "server = SimpleXMLRPCServer((\"localhost\", 8000))\n",
        "print(\"Server is running on port 8000...\")\n",
        "\n",
        "# Register the factorial function\n",
        "server.register_function(factorial, \"compute_factorial\")\n",
        "\n",
        "# Run the server\n",
        "server.serve_forever()"
      ],
      "metadata": {
        "id": "c-mSBjnp8vmE"
      },
      "execution_count": null,
      "outputs": []
    }
  ]
}