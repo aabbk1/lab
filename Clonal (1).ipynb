{
  "nbformat": 4,
  "nbformat_minor": 0,
  "metadata": {
    "colab": {
      "provenance": []
    },
    "kernelspec": {
      "name": "python3",
      "display_name": "Python 3"
    },
    "language_info": {
      "name": "python"
    }
  },
  "cells": [
    {
      "cell_type": "code",
      "execution_count": 1,
      "metadata": {
        "id": "zmwOnAmPULF5",
        "colab": {
          "base_uri": "https://localhost:8080/"
        },
        "outputId": "de4f813f-4bd8-4aa7-fde8-94dd4a5b2237"
      },
      "outputs": [
        {
          "output_type": "stream",
          "name": "stdout",
          "text": [
            "Generation 1, Best Solution: [ 0.76367308 -0.98411921], Fitness: 10.7433798286428\n",
            "Generation 2, Best Solution: [ 0.76367308 -0.98411921], Fitness: 10.7433798286428\n",
            "Generation 3, Best Solution: [ 0.76367308 -0.98411921], Fitness: 10.7433798286428\n",
            "Generation 4, Best Solution: [ 0.76367308 -0.98411921], Fitness: 10.7433798286428\n",
            "Generation 5, Best Solution: [ 0.76367308 -0.98411921], Fitness: 10.7433798286428\n",
            "Generation 6, Best Solution: [ 0.76367308 -0.98411921], Fitness: 10.7433798286428\n",
            "Generation 7, Best Solution: [ 0.76367308 -0.98411921], Fitness: 10.7433798286428\n",
            "Generation 8, Best Solution: [ 0.76367308 -0.98411921], Fitness: 10.7433798286428\n",
            "Generation 9, Best Solution: [ 0.76367308 -0.98411921], Fitness: 10.7433798286428\n",
            "Generation 10, Best Solution: [ 0.76367308 -0.98411921], Fitness: 10.7433798286428\n",
            "Generation 11, Best Solution: [ 0.76367308 -0.98411921], Fitness: 10.7433798286428\n",
            "Generation 12, Best Solution: [ 0.76367308 -0.98411921], Fitness: 10.7433798286428\n",
            "Generation 13, Best Solution: [ 0.76367308 -0.98411921], Fitness: 10.7433798286428\n",
            "Generation 14, Best Solution: [ 0.76367308 -0.98411921], Fitness: 10.7433798286428\n",
            "Generation 15, Best Solution: [ 0.76367308 -0.98411921], Fitness: 10.7433798286428\n",
            "Generation 16, Best Solution: [ 0.76367308 -0.98411921], Fitness: 10.7433798286428\n",
            "Generation 17, Best Solution: [ 0.77218927 -0.97690692], Fitness: 10.266025732181674\n",
            "Generation 18, Best Solution: [ 0.77218927 -0.97690692], Fitness: 10.266025732181674\n",
            "Generation 19, Best Solution: [ 0.77218927 -0.97690692], Fitness: 10.266025732181674\n",
            "Generation 20, Best Solution: [ 0.77218927 -0.97690692], Fitness: 10.266025732181674\n",
            "Generation 21, Best Solution: [ 0.77218927 -0.97690692], Fitness: 10.266025732181674\n",
            "Generation 22, Best Solution: [ 0.77218927 -0.97690692], Fitness: 10.266025732181674\n",
            "Generation 23, Best Solution: [ 0.81566544 -0.92173082], Fitness: 8.690143043457127\n",
            "Generation 24, Best Solution: [ 0.81566544 -0.92173082], Fitness: 8.690143043457127\n",
            "Generation 25, Best Solution: [ 0.87911026 -1.02102626], Fitness: 4.651166590954027\n",
            "Generation 26, Best Solution: [ 0.87911026 -1.02102626], Fitness: 4.651166590954027\n",
            "Generation 27, Best Solution: [ 0.87911026 -1.02102626], Fitness: 4.651166590954027\n",
            "Generation 28, Best Solution: [ 0.9479325  -1.07119013], Fitness: 3.5602243248774705\n",
            "Generation 29, Best Solution: [ 0.9479325  -1.07119013], Fitness: 3.5602243248774705\n",
            "Generation 30, Best Solution: [ 0.9479325  -1.07119013], Fitness: 3.5602243248774705\n",
            "Generation 31, Best Solution: [ 0.9479325  -1.07119013], Fitness: 3.5602243248774705\n",
            "Generation 32, Best Solution: [ 1.03678275 -0.98948112], Fitness: 2.341703374780405\n",
            "Generation 33, Best Solution: [ 1.03678275 -0.98948112], Fitness: 2.341703374780405\n",
            "Generation 34, Best Solution: [ 1.03678275 -0.98948112], Fitness: 2.341703374780405\n",
            "Generation 35, Best Solution: [ 1.03678275 -0.98948112], Fitness: 2.341703374780405\n",
            "Generation 36, Best Solution: [ 1.03678275 -0.98948112], Fitness: 2.341703374780405\n",
            "Generation 37, Best Solution: [ 1.03678275 -0.98948112], Fitness: 2.341703374780405\n",
            "Generation 38, Best Solution: [ 1.02043604 -0.97297572], Fitness: 2.21410726255408\n",
            "Generation 39, Best Solution: [ 1.02043604 -0.97297572], Fitness: 2.21410726255408\n",
            "Generation 40, Best Solution: [ 1.02043604 -0.97297572], Fitness: 2.21410726255408\n",
            "Generation 41, Best Solution: [ 1.02043604 -0.97297572], Fitness: 2.21410726255408\n",
            "Generation 42, Best Solution: [ 1.02043604 -0.97297572], Fitness: 2.21410726255408\n",
            "Generation 43, Best Solution: [ 1.02043604 -0.97297572], Fitness: 2.21410726255408\n",
            "Generation 44, Best Solution: [ 1.02043604 -0.97297572], Fitness: 2.21410726255408\n",
            "Generation 45, Best Solution: [ 1.02043604 -0.97297572], Fitness: 2.21410726255408\n",
            "Generation 46, Best Solution: [ 1.02043604 -0.97297572], Fitness: 2.21410726255408\n",
            "Generation 47, Best Solution: [ 1.02043604 -0.97297572], Fitness: 2.21410726255408\n",
            "Generation 48, Best Solution: [ 1.02043604 -0.97297572], Fitness: 2.21410726255408\n",
            "Generation 49, Best Solution: [ 1.02043604 -0.97297572], Fitness: 2.21410726255408\n",
            "Generation 50, Best Solution: [ 1.02043604 -0.97297572], Fitness: 2.21410726255408\n"
          ]
        }
      ],
      "source": [
        "import numpy as np\n",
        "import random\n",
        "\n",
        "# Rastrigin Function (Optimization Objective)\n",
        "def rastrigin(x):\n",
        "    A = 10\n",
        "    return A * len(x) + sum(x_i**2 - A * np.cos(2 * np.pi * x_i) for x_i in x)\n",
        "\n",
        "# Clonal Selection Algorithm\n",
        "def clonal_selection_algorithm(pop_size, generations, mutation_rate, elite_size):\n",
        "    # Step 1: Initialize population with random values between -5.12 and 5.12\n",
        "    population = np.random.uniform(-5.12, 5.12, (pop_size, 2))  # 2D Rastrigin Problem\n",
        "\n",
        "    # Step 2: Start evolution for 'generations' number of generations\n",
        "    for gen in range(generations):\n",
        "        # Step 3: Calculate the fitness for each individual in the population\n",
        "        fitness = np.array([rastrigin(ind) for ind in population])\n",
        "\n",
        "        # Step 4: Select the best (elite) individuals based on their fitness\n",
        "        elite_indices = np.argsort(fitness)[:elite_size]  # Get the indices of the elite individuals\n",
        "        elite_individuals = population[elite_indices]\n",
        "\n",
        "        # Step 5: Clone the best individuals\n",
        "        clones = elite_individuals.copy()\n",
        "\n",
        "        # Step 6: Mutate the clones slightly (explore new solutions)\n",
        "        for i in range(len(clones)):\n",
        "            if random.random() < mutation_rate:\n",
        "                clones[i] += np.random.uniform(-0.1, 0.1, 2)  # Small random change\n",
        "                clones[i] = np.clip(clones[i], -5.12, 5.12)  # Ensure values are within the bounds\n",
        "\n",
        "        # Step 7: Replace the worst individuals with the best clones\n",
        "        worst_indices = np.argsort(fitness)[-elite_size:]  # Get indices of the worst individuals\n",
        "        population[worst_indices] = clones\n",
        "\n",
        "        # Step 8: Output the best solution of the current generation\n",
        "        best_solution = population[np.argmin(fitness)]  # Best individual has minimum fitness\n",
        "        print(f\"Generation {gen+1}, Best Solution: {best_solution}, Fitness: {rastrigin(best_solution)}\")\n",
        "\n",
        "# Parameters for the algorithm\n",
        "population_size = 20  # Number of individuals\n",
        "generations = 50  # Number of generations to evolve\n",
        "mutation_rate = 0.1  # Chance of mutation in each clone\n",
        "elite_size = 4  # Number of elite individuals to keep\n",
        "\n",
        "# Run Clonal Selection Algorithm\n",
        "clonal_selection_algorithm(population_size, generations, mutation_rate, elite_size)\n"
      ]
    }
  ]
}